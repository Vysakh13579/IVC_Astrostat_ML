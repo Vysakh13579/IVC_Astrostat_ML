{
 "cells": [
  {
   "cell_type": "code",
   "execution_count": 3,
   "id": "df10b5dd-35f3-4db3-8ed5-e45bbad95b76",
   "metadata": {},
   "outputs": [],
   "source": [
    "from astropy.io import ascii"
   ]
  },
  {
   "cell_type": "code",
   "execution_count": 4,
   "id": "4aee436e-085b-4357-afe6-3065e25f2ba9",
   "metadata": {},
   "outputs": [
    {
     "name": "stdout",
     "output_type": "stream",
     "text": [
      "  t      f      s   \n",
      "------ ------ ------\n",
      "   133  122.7    5.7\n",
      "   143  109.5    5.4\n",
      "   153  101.4    5.2\n",
      "   163   92.0    4.9\n",
      "   173   86.8    4.8\n",
      "   183   83.7    4.7\n",
      "   193   77.2    4.5\n",
      "   203   69.4    4.3\n",
      "   213   69.2    4.3\n",
      "   223   62.4    4.1\n",
      "   ...    ...    ...\n",
      "  6909   1.01  0.152\n",
      " 11809   0.56  0.056\n",
      " 12509  0.482  0.052\n",
      " 18109  0.331  0.052\n",
      " 23859  0.173  0.039\n",
      " 27859  0.108  0.028\n",
      " 35859  0.079  0.021\n",
      " 81459 0.0361 0.0088\n",
      " 99102 0.0273 0.0078\n",
      "165485  0.008 0.0016\n",
      "412515 0.0013 0.0006\n",
      "Length = 63 rows\n"
     ]
    }
   ],
   "source": [
    "data=ascii.read(\"../data/GRB_afterglow.dat\")\n",
    "print(data)"
   ]
  },
  {
   "cell_type": "code",
   "execution_count": 5,
   "id": "1c0dbf72-4f7f-492b-a355-c6bbcba0ad75",
   "metadata": {},
   "outputs": [],
   "source": [
    "import matplotlib.pyplot as plt\n",
    "plt.style.use('seaborn-whitegrid')"
   ]
  },
  {
   "cell_type": "code",
   "execution_count": 6,
   "id": "1bd5be01-f42c-4a9e-865e-63b044a812ed",
   "metadata": {},
   "outputs": [],
   "source": [
    "t=data[\"t\"]\n",
    "f=data[\"f\"]\n",
    "s=data[\"s\"]"
   ]
  },
  {
   "cell_type": "code",
   "execution_count": 7,
   "id": "86186b0b-5b18-4ba9-8798-92f0c093ddcb",
   "metadata": {},
   "outputs": [],
   "source": [
    "import numpy as np\n",
    "f = np.log10(f)\n",
    "t = np.log10(t)"
   ]
  },
  {
   "cell_type": "code",
   "execution_count": 8,
   "id": "afc000de-4427-4d2c-9439-bcdc919b2308",
   "metadata": {},
   "outputs": [
    {
     "data": {
      "text/plain": [
       "Text(0, 0.5, 'log flux (erg$^{-2}$ s$^{-1}$)')"
      ]
     },
     "execution_count": 8,
     "metadata": {},
     "output_type": "execute_result"
    },
    {
     "data": {
      "image/png": "[encoded data removed]",
      "text/plain": [
       "<Figure size 432x288 with 1 Axes>"
      ]
     },
     "metadata": {},
     "output_type": "display_data"
    }
   ],
   "source": [
    "plt.plot(t,f,'ko')\n",
    "plt.xlabel('log time(s)')\n",
    "plt.ylabel('log flux (erg$^{-2}$ s$^{-1}$)')"
   ]
  },
  {
   "cell_type": "code",
   "execution_count": 9,
   "id": "4e0fa911-33ca-4777-afea-90eb13704f7f",
   "metadata": {},
   "outputs": [],
   "source": [
    "import numpy as np\n",
    "from astropy.io import ascii\n",
    "from astropy.table import Table"
   ]
  },
  {
   "cell_type": "code",
   "execution_count": 12,
   "id": "b7ca6a08",
   "metadata": {},
   "outputs": [],
   "source": [
    "data = Table()\n",
    "data['x'] = np.array([1, 2, 3], dtype=np.int32)\n",
    "data['y'] = data['x'] ** 2\n",
    "ascii.write(data, 'values.dat', overwrite=True)"
   ]
  },
  {
   "cell_type": "code",
   "execution_count": null,
   "id": "b99a7a6b",
   "metadata": {},
   "outputs": [],
   "source": []
  }
 ],
 "metadata": {
  "kernelspec": {
   "display_name": "Python 3",
   "language": "python",
   "name": "python3"
  },
  "language_info": {
   "codemirror_mode": {
    "name": "ipython",
    "version": 3
   },
   "file_extension": ".py",
   "mimetype": "text/x-python",
   "name": "python",
   "nbconvert_exporter": "python",
   "pygments_lexer": "ipython3",
   "version": "3.7.10"
  }
 },
 "nbformat": 4,
 "nbformat_minor": 5
}
