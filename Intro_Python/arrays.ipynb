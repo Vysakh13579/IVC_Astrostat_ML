{
 "cells": [
  {
   "cell_type": "markdown",
   "id": "a0f30b92",
   "metadata": {},
   "source": [
    "We have to add numpy to call array. We have to import numpy and put the shortform np"
   ]
  },
  {
   "cell_type": "code",
   "execution_count": 1,
   "id": "5a96702b",
   "metadata": {},
   "outputs": [],
   "source": [
    "import numpy as np\n",
    "a = np.array([1,2,3])\n",
    "b = np.array([1,0,0])"
   ]
  },
  {
   "cell_type": "markdown",
   "id": "814d5ee7",
   "metadata": {},
   "source": [
    "For example we want to test the summation of a and b array"
   ]
  },
  {
   "cell_type": "code",
   "execution_count": 3,
   "id": "ee1ba714",
   "metadata": {
    "scrolled": true
   },
   "outputs": [
    {
     "data": {
      "text/plain": [
       "array([2, 2, 3])"
      ]
     },
     "execution_count": 3,
     "metadata": {},
     "output_type": "execute_result"
    }
   ],
   "source": [
    "a+b"
   ]
  },
  {
   "cell_type": "markdown",
   "id": "62c72123",
   "metadata": {},
   "source": [
    "and test for 0.5 multiply by a"
   ]
  },
  {
   "cell_type": "code",
   "execution_count": 2,
   "id": "acf403c9",
   "metadata": {},
   "outputs": [
    {
     "data": {
      "text/plain": [
       "array([0.5, 1. , 1.5])"
      ]
     },
     "execution_count": 2,
     "metadata": {},
     "output_type": "execute_result"
    }
   ],
   "source": [
    "0.5*a"
   ]
  },
  {
   "cell_type": "markdown",
   "id": "fe69e837",
   "metadata": {},
   "source": [
    "To create 0 vector or 0 matrix use np.zeros command"
   ]
  },
  {
   "cell_type": "code",
   "execution_count": 6,
   "id": "910694ab",
   "metadata": {},
   "outputs": [
    {
     "data": {
      "text/plain": [
       "array([0., 0., 0., 0., 0.])"
      ]
     },
     "execution_count": 6,
     "metadata": {},
     "output_type": "execute_result"
    }
   ],
   "source": [
    "np.zeros(5)"
   ]
  },
  {
   "cell_type": "code",
   "execution_count": 7,
   "id": "fe5ad283",
   "metadata": {},
   "outputs": [
    {
     "data": {
      "text/plain": [
       "array([[0., 0.],\n",
       "       [0., 0.]])"
      ]
     },
     "execution_count": 7,
     "metadata": {},
     "output_type": "execute_result"
    }
   ],
   "source": [
    "np.zeros((2,2))"
   ]
  },
  {
   "cell_type": "markdown",
   "id": "57d326ef",
   "metadata": {},
   "source": [
    "All standard matrix operations can be done using matrix product"
   ]
  },
  {
   "cell_type": "code",
   "execution_count": 11,
   "id": "424f4760",
   "metadata": {},
   "outputs": [
    {
     "data": {
      "text/plain": [
       "array([[4, 1],\n",
       "       [2, 2]])"
      ]
     },
     "execution_count": 11,
     "metadata": {},
     "output_type": "execute_result"
    }
   ],
   "source": [
    "a = [[1,0],[0,1]]\n",
    "b = [[4,1],[2,2]]\n",
    "np.dot(a,b)"
   ]
  },
  {
   "cell_type": "code",
   "execution_count": null,
   "id": "66682bfb",
   "metadata": {},
   "outputs": [],
   "source": []
  }
 ],
 "metadata": {
  "kernelspec": {
   "display_name": "Python 3",
   "language": "python",
   "name": "python3"
  },
  "language_info": {
   "codemirror_mode": {
    "name": "ipython",
    "version": 3
   },
   "file_extension": ".py",
   "mimetype": "text/x-python",
   "name": "python",
   "nbconvert_exporter": "python",
   "pygments_lexer": "ipython3",
   "version": "3.7.10"
  }
 },
 "nbformat": 4,
 "nbformat_minor": 5
}
