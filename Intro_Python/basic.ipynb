{
 "cells": [
  {
   "cell_type": "markdown",
   "id": "aa00e24d",
   "metadata": {},
   "source": [
    "Basic example for learning python syntax"
   ]
  },
  {
   "cell_type": "code",
   "execution_count": 1,
   "id": "caa35344",
   "metadata": {},
   "outputs": [
    {
     "name": "stdout",
     "output_type": "stream",
     "text": [
      "Hello! Welcome to Astrostatics and Machine Learning School!\n"
     ]
    }
   ],
   "source": [
    "print('Hello! Welcome to Astrostatics and Machine Learning School!') #print characters/statement"
   ]
  },
  {
   "cell_type": "code",
   "execution_count": 2,
   "id": "d6e681eb",
   "metadata": {},
   "outputs": [
    {
     "name": "stdout",
     "output_type": "stream",
     "text": [
      "10\n",
      "4\n"
     ]
    }
   ],
   "source": [
    "a = 10\n",
    "b = 4\n",
    "print(a) #print value of a\n",
    "print(b) #print value of b"
   ]
  },
  {
   "cell_type": "code",
   "execution_count": 3,
   "id": "370e76f3",
   "metadata": {},
   "outputs": [
    {
     "name": "stdout",
     "output_type": "stream",
     "text": [
      "10 4\n"
     ]
    }
   ],
   "source": [
    "print (a,b) #print a and b side by side"
   ]
  },
  {
   "cell_type": "code",
   "execution_count": 4,
   "id": "c78ad049",
   "metadata": {},
   "outputs": [
    {
     "name": "stdout",
     "output_type": "stream",
     "text": [
      "a,b\n"
     ]
    }
   ],
   "source": [
    "print('a,b') #can you see the differences?"
   ]
  },
  {
   "cell_type": "markdown",
   "id": "f42f0ec3",
   "metadata": {},
   "source": [
    "To check the type of object in Python"
   ]
  },
  {
   "cell_type": "code",
   "execution_count": 5,
   "id": "4bbfd292",
   "metadata": {},
   "outputs": [],
   "source": [
    "x = 10    #integer\n",
    "y = 10.5  #floating number/real\n",
    "z = 10j   #complex number"
   ]
  },
  {
   "cell_type": "code",
   "execution_count": 6,
   "id": "326d0be0",
   "metadata": {},
   "outputs": [
    {
     "name": "stdout",
     "output_type": "stream",
     "text": [
      "<class 'int'>\n",
      "<class 'float'>\n",
      "<class 'complex'>\n"
     ]
    }
   ],
   "source": [
    "print(type(x))\n",
    "print (type(y))\n",
    "print(type(z))"
   ]
  }
 ],
 "metadata": {
  "kernelspec": {
   "display_name": "Python 3",
   "language": "python",
   "name": "python3"
  },
  "language_info": {
   "codemirror_mode": {
    "name": "ipython",
    "version": 3
   },
   "file_extension": ".py",
   "mimetype": "text/x-python",
   "name": "python",
   "nbconvert_exporter": "python",
   "pygments_lexer": "ipython3",
   "version": "3.7.10"
  }
 },
 "nbformat": 4,
 "nbformat_minor": 5
}
