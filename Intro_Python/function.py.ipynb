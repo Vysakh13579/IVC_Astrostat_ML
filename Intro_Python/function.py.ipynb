{
 "cells": [
  {
   "cell_type": "code",
   "execution_count": 1,
   "id": "90257696",
   "metadata": {},
   "outputs": [],
   "source": [
    "def f(x):\n",
    "   return 3*x**2+x+4"
   ]
  },
  {
   "cell_type": "code",
   "execution_count": null,
   "id": "c8fa957e",
   "metadata": {},
   "outputs": [],
   "source": [
    "x = 1 #define the value of x"
   ]
  },
  {
   "cell_type": "code",
   "execution_count": 3,
   "id": "b192ed31",
   "metadata": {},
   "outputs": [
    {
     "name": "stdout",
     "output_type": "stream",
     "text": [
      "8\n"
     ]
    }
   ],
   "source": [
    "print(f(x))"
   ]
  },
  {
   "cell_type": "markdown",
   "id": "49804039",
   "metadata": {},
   "source": [
    "or we could do define x directly in f(x)"
   ]
  },
  {
   "cell_type": "code",
   "execution_count": 4,
   "id": "4ad45f3e",
   "metadata": {},
   "outputs": [
    {
     "data": {
      "text/plain": [
       "8"
      ]
     },
     "execution_count": 4,
     "metadata": {},
     "output_type": "execute_result"
    }
   ],
   "source": [
    "f(1)"
   ]
  }
 ],
 "metadata": {
  "kernelspec": {
   "display_name": "Python 3",
   "language": "python",
   "name": "python3"
  },
  "language_info": {
   "codemirror_mode": {
    "name": "ipython",
    "version": 3
   },
   "file_extension": ".py",
   "mimetype": "text/x-python",
   "name": "python",
   "nbconvert_exporter": "python",
   "pygments_lexer": "ipython3",
   "version": "3.7.10"
  }
 },
 "nbformat": 4,
 "nbformat_minor": 5
}
