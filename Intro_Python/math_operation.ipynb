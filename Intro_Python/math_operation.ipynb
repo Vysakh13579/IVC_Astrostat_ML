{
 "cells": [
  {
   "cell_type": "markdown",
   "id": "08134c06",
   "metadata": {},
   "source": [
    "Example for basic mathematical operations"
   ]
  },
  {
   "cell_type": "code",
   "execution_count": 1,
   "id": "1a5fc840",
   "metadata": {},
   "outputs": [],
   "source": [
    "a = 2 #assign values for a\n",
    "b = 10  # assign values for b"
   ]
  },
  {
   "cell_type": "code",
   "execution_count": 2,
   "id": "6daa193f",
   "metadata": {},
   "outputs": [
    {
     "data": {
      "text/plain": [
       "12"
      ]
     },
     "execution_count": 2,
     "metadata": {},
     "output_type": "execute_result"
    }
   ],
   "source": [
    "a+b #sum"
   ]
  },
  {
   "cell_type": "code",
   "execution_count": 3,
   "id": "4a5318fb",
   "metadata": {},
   "outputs": [
    {
     "data": {
      "text/plain": [
       "-8"
      ]
     },
     "execution_count": 3,
     "metadata": {},
     "output_type": "execute_result"
    }
   ],
   "source": [
    "a-b #minus"
   ]
  },
  {
   "cell_type": "code",
   "execution_count": 4,
   "id": "1b4cf0c6",
   "metadata": {},
   "outputs": [
    {
     "data": {
      "text/plain": [
       "0.2"
      ]
     },
     "execution_count": 4,
     "metadata": {},
     "output_type": "execute_result"
    }
   ],
   "source": [
    "a/b #division"
   ]
  },
  {
   "cell_type": "code",
   "execution_count": 5,
   "id": "1e853ea5",
   "metadata": {},
   "outputs": [
    {
     "data": {
      "text/plain": [
       "20"
      ]
     },
     "execution_count": 5,
     "metadata": {},
     "output_type": "execute_result"
    }
   ],
   "source": [
    "a*b  #multiplication"
   ]
  },
  {
   "cell_type": "code",
   "execution_count": 6,
   "id": "30a5be69",
   "metadata": {},
   "outputs": [
    {
     "data": {
      "text/plain": [
       "1024"
      ]
     },
     "execution_count": 6,
     "metadata": {},
     "output_type": "execute_result"
    }
   ],
   "source": [
    "a**b  #power"
   ]
  }
 ],
 "metadata": {
  "kernelspec": {
   "display_name": "Python 3",
   "language": "python",
   "name": "python3"
  },
  "language_info": {
   "codemirror_mode": {
    "name": "ipython",
    "version": 3
   },
   "file_extension": ".py",
   "mimetype": "text/x-python",
   "name": "python",
   "nbconvert_exporter": "python",
   "pygments_lexer": "ipython3",
   "version": "3.7.10"
  }
 },
 "nbformat": 4,
 "nbformat_minor": 5
}
