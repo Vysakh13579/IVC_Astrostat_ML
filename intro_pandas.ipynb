{
 "cells": [
  {
   "cell_type": "code",
   "execution_count": 1,
   "id": "5b83ec88",
   "metadata": {},
   "outputs": [],
   "source": [
    "import numpy as np\n",
    "import pandas as pd"
   ]
  },
  {
   "cell_type": "markdown",
   "id": "a3baa835",
   "metadata": {},
   "source": [
    "We want to read data from text file "
   ]
  },
  {
   "cell_type": "code",
   "execution_count": 2,
   "id": "7b4b99e3",
   "metadata": {},
   "outputs": [
    {
     "name": "stdout",
     "output_type": "stream",
     "text": [
      "    1   4\n",
      "0   2   8\n",
      "1   3  10\n",
      "2   4  16\n",
      "3   5  20\n",
      "4   6  30\n",
      "5   7  32\n",
      "6   8  36\n",
      "7   9  40\n",
      "8  10  60\n"
     ]
    }
   ],
   "source": [
    "df = pd.read_fwf('data.txt') #reading text file. fwf = fixed-width text file\n",
    "print(df)"
   ]
  },
  {
   "cell_type": "markdown",
   "id": "6f299137",
   "metadata": {},
   "source": [
    "The data read without a header and pandas assign as first column as 1 and second column as 2\n",
    "We can plot data from the file that we read using pandas. But we need to assign the header name"
   ]
  },
  {
   "cell_type": "code",
   "execution_count": 3,
   "id": "a28ba7f8",
   "metadata": {},
   "outputs": [],
   "source": [
    "import matplotlib.pyplot as plt"
   ]
  },
  {
   "cell_type": "code",
   "execution_count": 4,
   "id": "232d87d4",
   "metadata": {},
   "outputs": [
    {
     "name": "stdout",
     "output_type": "stream",
     "text": [
      "    x   y\n",
      "0   1   4\n",
      "1   2   8\n",
      "2   3  10\n",
      "3   4  16\n",
      "4   5  20\n",
      "5   6  30\n",
      "6   7  32\n",
      "7   8  36\n",
      "8   9  40\n",
      "9  10  60\n"
     ]
    }
   ],
   "source": [
    "df = pd.read_fwf('data.txt', sep='\\s+', header=None, names=['x','y'])\n",
    "print(df)"
   ]
  },
  {
   "cell_type": "code",
   "execution_count": 5,
   "id": "aef5ae9d",
   "metadata": {},
   "outputs": [
    {
     "data": {
      "text/plain": [
       "[<matplotlib.lines.Line2D at 0x7ffbe3c17950>]"
      ]
     },
     "execution_count": 5,
     "metadata": {},
     "output_type": "execute_result"
    },
    {
     "data": {
      "image/png": "[encoded data removed]",
      "text/plain": [
       "<Figure size 432x288 with 1 Axes>"
      ]
     },
     "metadata": {
      "needs_background": "light"
     },
     "output_type": "display_data"
    }
   ],
   "source": [
    "plt.plot(df['x'],df['y'])  #we assigned the header as x and x that is within the dataframe"
   ]
  },
  {
   "cell_type": "markdown",
   "id": "3038e73a",
   "metadata": {},
   "source": [
    "If your data contained header, we have to modify the read pandas statement and add header = 0\n",
    "We assign new data frame to call new data. If you put the same name for data frame (df) as previous one, python will overwrite the data frame. "
   ]
  },
  {
   "cell_type": "code",
   "execution_count": 7,
   "id": "30b48018",
   "metadata": {},
   "outputs": [
    {
     "name": "stdout",
     "output_type": "stream",
     "text": [
      "    x   y\n",
      "0   1   4\n",
      "1   2   8\n",
      "2   3  10\n",
      "3   4  16\n",
      "4   5  20\n",
      "5   6  30\n",
      "6   7  32\n",
      "7   8  36\n",
      "8   9  40\n",
      "9  10  60\n"
     ]
    }
   ],
   "source": [
    "df1 = pd.read_fwf('data1.txt', sep='\\s+', header=0)\n",
    "print(df1)"
   ]
  },
  {
   "cell_type": "markdown",
   "id": "bf0d6724",
   "metadata": {},
   "source": [
    "Now pandas read file together with the header and note that we do not need to assign names in read pandas. Now we plot again the data"
   ]
  },
  {
   "cell_type": "code",
   "execution_count": 9,
   "id": "09f37546",
   "metadata": {},
   "outputs": [
    {
     "data": {
      "text/plain": [
       "[<matplotlib.lines.Line2D at 0x7ffbe3e7c350>]"
      ]
     },
     "execution_count": 9,
     "metadata": {},
     "output_type": "execute_result"
    },
    {
     "data": {
      "image/png": "[encoded data removed]",
      "text/plain": [
       "<Figure size 432x288 with 1 Axes>"
      ]
     },
     "metadata": {
      "needs_background": "light"
     },
     "output_type": "display_data"
    }
   ],
   "source": [
    "plt.plot(df1['x'],df1['y']) #remember the numbering for your new data frame!"
   ]
  },
  {
   "cell_type": "code",
   "execution_count": null,
   "id": "4d56062e",
   "metadata": {},
   "outputs": [],
   "source": []
  }
 ],
 "metadata": {
  "kernelspec": {
   "display_name": "Python 3",
   "language": "python",
   "name": "python3"
  },
  "language_info": {
   "codemirror_mode": {
    "name": "ipython",
    "version": 3
   },
   "file_extension": ".py",
   "mimetype": "text/x-python",
   "name": "python",
   "nbconvert_exporter": "python",
   "pygments_lexer": "ipython3",
   "version": "3.7.10"
  }
 },
 "nbformat": 4,
 "nbformat_minor": 5
}
